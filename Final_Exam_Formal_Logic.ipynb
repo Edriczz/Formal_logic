{
  "nbformat": 4,
  "nbformat_minor": 0,
  "metadata": {
    "colab": {
      "provenance": [],
      "authorship_tag": "ABX9TyOOC5hoq4Ndv9Y60kHq0qh/",
      "include_colab_link": true
    },
    "kernelspec": {
      "name": "python3",
      "display_name": "Python 3"
    },
    "language_info": {
      "name": "python"
    }
  },
  "cells": [
    {
      "cell_type": "markdown",
      "metadata": {
        "id": "view-in-github",
        "colab_type": "text"
      },
      "source": [
        "<a href=\"https://colab.research.google.com/github/Edriczz/Formal_logic/blob/main/Final_Exam_Formal_Logic.ipynb\" target=\"_parent\"><img src=\"https://colab.research.google.com/assets/colab-badge.svg\" alt=\"Open In Colab\"/></a>"
      ]
    },
    {
      "cell_type": "code",
      "source": [
        "%pip install z3-solver"
      ],
      "metadata": {
        "colab": {
          "base_uri": "https://localhost:8080/"
        },
        "id": "cx-vMsZ6UINp",
        "outputId": "05066054-6657-49fa-990a-57d9b5befe0b"
      },
      "execution_count": 2,
      "outputs": [
        {
          "output_type": "stream",
          "name": "stdout",
          "text": [
            "Collecting z3-solver\n",
            "  Downloading z3_solver-4.15.1.0-py3-none-manylinux_2_17_x86_64.manylinux2014_x86_64.whl.metadata (602 bytes)\n",
            "Downloading z3_solver-4.15.1.0-py3-none-manylinux_2_17_x86_64.manylinux2014_x86_64.whl (29.5 MB)\n",
            "\u001b[2K   \u001b[90m━━━━━━━━━━━━━━━━━━━━━━━━━━━━━━━━━━━━━━━━\u001b[0m \u001b[32m29.5/29.5 MB\u001b[0m \u001b[31m79.2 MB/s\u001b[0m eta \u001b[36m0:00:00\u001b[0m\n",
            "\u001b[?25hInstalling collected packages: z3-solver\n",
            "Successfully installed z3-solver-4.15.1.0\n"
          ]
        }
      ]
    },
    {
      "cell_type": "markdown",
      "source": [
        "## Number 1"
      ],
      "metadata": {
        "id": "K8WrEjfnZDPh"
      }
    },
    {
      "cell_type": "code",
      "source": [
        "from z3 import *\n",
        "\n",
        "# This script solves both parts of Question 1 for the Formal Logic exam.\n",
        "# Part (i): Counts all possible paths for a robot under Module (a).\n",
        "# Part (ii): Proves that no valid path can pass through coordinate C(2,1).\n",
        "\n",
        "# --- Configuration ---\n",
        "PATH_LEN = 10\n",
        "START_A = (0, 0)\n",
        "END_B = (6, 4)\n",
        "POINT_C = (2, 1)\n",
        "RED_COORDS = [(2,2),(3, 1), (4, 1), (2, 3), (3, 3), (4, 2)]\n",
        "\n",
        "# ==============================================================================\n",
        "#  PART 1(i): Find the number of all possible robot's movements\n",
        "# ==============================================================================\n",
        "print(\"--- Solving Question 1(i): Counting all possible paths ---\")\n",
        "\n",
        "# 1. Initialize the SMT solver for path counting\n",
        "solver_count = Solver()\n",
        "\n",
        "# 2. Define integer variables for the path\n",
        "x = [Int(f'x_{i}') for i in range(PATH_LEN + 1)]\n",
        "y = [Int(f'y_{i}') for i in range(PATH_LEN + 1)]\n",
        "\n",
        "# 3. Add core constraints for Module (a)\n",
        "# Start and end points\n",
        "solver_count.add(x[0] == START_A[0], y[0] == START_A[1])\n",
        "solver_count.add(x[PATH_LEN] == END_B[0], y[PATH_LEN] == END_B[1])\n",
        "\n",
        "# Movement constraint (one step right or up)\n",
        "for i in range(PATH_LEN):\n",
        "    step_right = And(x[i+1] == x[i] + 1, y[i+1] == y[i])\n",
        "    step_up = And(x[i+1] == x[i], y[i+1] == y[i] + 1)\n",
        "    solver_count.add(Or(step_right, step_up))\n",
        "\n",
        "# Forbidden (red) coordinates constraint\n",
        "for i in range(1, PATH_LEN + 1):\n",
        "    for r_x, r_y in RED_COORDS:\n",
        "        solver_count.add(Not(And(x[i] == r_x, y[i] == r_y)))\n",
        "\n",
        "# 4. Count all valid models (paths)\n",
        "path_count = 0\n",
        "while solver_count.check() == sat:\n",
        "    path_count += 1\n",
        "    m = solver_count.model()\n",
        "    # Block the found path to find a new one in the next iteration\n",
        "    block_path = Or([x[i] != m.eval(x[i]) for i in range(PATH_LEN + 1)] +\n",
        "                    [y[i] != m.eval(y[i]) for i in range(PATH_LEN + 1)])\n",
        "    solver_count.add(block_path)\n",
        "\n",
        "print(f\"Result: The total number of possible paths is {path_count}.\\n\")\n",
        "\n",
        "\n",
        "# ==============================================================================\n",
        "#  PART 1(ii): Show that there is no robot movement that passes coordinate C\n",
        "# ==============================================================================\n",
        "print(\"--- Solving Question 1(ii): Proof by contradiction ---\")\n",
        "\n",
        "# 1. Initialize a new, clean solver for the proof\n",
        "solver_proof = Solver()\n",
        "\n",
        "# 2. Add the same core constraints as before\n",
        "# We redefine the variables for the new solver\n",
        "x_p = [Int(f'xp_{i}') for i in range(PATH_LEN + 1)]\n",
        "y_p = [Int(f'yp_{i}') for i in range(PATH_LEN + 1)]\n",
        "\n",
        "solver_proof.add(x_p[0] == START_A[0], y_p[0] == START_A[1])\n",
        "solver_proof.add(x_p[PATH_LEN] == END_B[0], y_p[PATH_LEN] == END_B[1])\n",
        "\n",
        "for i in range(PATH_LEN):\n",
        "    step_right = And(x_p[i+1] == x_p[i] + 1, y_p[i+1] == y_p[i])\n",
        "    step_up = And(x_p[i+1] == x_p[i], y_p[i+1] == y_p[i] + 1)\n",
        "    solver_proof.add(Or(step_right, step_up))\n",
        "\n",
        "for i in range(1, PATH_LEN + 1):\n",
        "    for r_x, r_y in RED_COORDS:\n",
        "        solver_proof.add(Not(And(x_p[i] == r_x, y_p[i] == r_y)))\n",
        "\n",
        "# 3. Add the specific constraint for the proof: the path MUST pass through C\n",
        "path_must_pass_C = Or([And(x_p[i] == POINT_C[0], y_p[i] == POINT_C[1]) for i in range(1, PATH_LEN)])\n",
        "solver_proof.add(path_must_pass_C)\n",
        "\n",
        "# 4. Check for satisfiability\n",
        "result = solver_proof.check()\n",
        "print(f\"Result of checking for a path that passes through C: {result}\")\n",
        "\n",
        "if result == unsat:\n",
        "    print(\"Proof: The solver returned 'unsat', which proves by contradiction that no valid path can pass through coordinate C.\")\n",
        "else:\n",
        "    print(\"Proof failed: A path through C was found, which indicates an error in the constraints.\")\n",
        "\n"
      ],
      "metadata": {
        "colab": {
          "base_uri": "https://localhost:8080/"
        },
        "id": "calvdaj-XuqD",
        "outputId": "34f4fb41-f029-41ab-b5e5-c620c76a39c5"
      },
      "execution_count": 6,
      "outputs": [
        {
          "output_type": "stream",
          "name": "stdout",
          "text": [
            "--- Solving Question 1(i): Counting all possible paths ---\n",
            "Result: The total number of possible paths is 10.\n",
            "\n",
            "--- Solving Question 1(ii): Proof by contradiction ---\n",
            "Result of checking for a path that passes through C: unsat\n",
            "Proof: The solver returned 'unsat', which proves by contradiction that no valid path can pass through coordinate C.\n"
          ]
        }
      ]
    },
    {
      "cell_type": "markdown",
      "source": [
        "##Number 2"
      ],
      "metadata": {
        "id": "IsHmsoFQZGf5"
      }
    },
    {
      "cell_type": "code",
      "source": [
        "from z3 import *\n",
        "\n",
        "# This script solves all three parts of Question 2 for the Formal Logic exam.\n",
        "# Part (i): Counts all possible paths for a robot under Module (b).\n",
        "# Part (ii): Finds the number of minimal paths by first discovering the minimal length.\n",
        "# Part (iii): Proves that all minimal paths must pass through coordinates C, D, and E.\n",
        "\n",
        "# --- Configuration ---\n",
        "START_A = (0, 0)\n",
        "END_B = (6, 4)\n",
        "POINT_C = (2, 2)\n",
        "POINT_D = (3, 2)\n",
        "POINT_E = (4, 3)\n",
        "RED_COORDS = [(2, 1), (3, 4), (4, 1), (2, 3), (3, 3), (4, 2)]\n",
        "# The longest possible path has 10 steps (no diagonals)\n",
        "MAX_POSSIBLE_LEN = 10\n",
        "\n",
        "def add_module_b_constraints(solver, path_len):\n",
        "    \"\"\"A helper function to add the core constraints for a given path length.\"\"\"\n",
        "    x = [Int(f'x_{path_len}_{i}') for i in range(path_len + 1)]\n",
        "    y = [Int(f'y_{path_len}_{i}') for i in range(path_len + 1)]\n",
        "\n",
        "    # Start and end points\n",
        "    solver.add(x[0] == START_A[0], y[0] == START_A[1])\n",
        "    solver.add(x[path_len] == END_B[0], y[path_len] == END_B[1])\n",
        "\n",
        "    # Movement constraint (right, up, or diagonal)\n",
        "    for i in range(path_len):\n",
        "        step_right = And(x[i+1] == x[i] + 1, y[i+1] == y[i])\n",
        "        step_up = And(x[i+1] == x[i], y[i+1] == y[i] + 1)\n",
        "        step_diag = And(x[i+1] == x[i] + 1, y[i+1] == y[i] + 1)\n",
        "        solver.add(Or(step_right, step_up, step_diag))\n",
        "\n",
        "    # Forbidden coordinates\n",
        "    for i in range(1, path_len + 1):\n",
        "        for r_x, r_y in RED_COORDS:\n",
        "            solver.add(Not(And(x[i] == r_x, y[i] == r_y)))\n",
        "\n",
        "    return x, y\n",
        "\n",
        "def count_models(solver, x, y):\n",
        "    \"\"\"A helper function to count all satisfying models.\"\"\"\n",
        "    count = 0\n",
        "    while solver.check() == sat:\n",
        "        count += 1\n",
        "        m = solver.model()\n",
        "        block = Or([x[i] != m.eval(x[i]) for i in range(len(x))] +\n",
        "                   [y[i] != m.eval(y[i]) for i in range(len(y))])\n",
        "        solver.add(block)\n",
        "    return count\n",
        "\n",
        "# ==============================================================================\n",
        "#  PART 2(ii): Find the number of all possible MINIMAL movements\n",
        "# ==============================================================================\n",
        "print(\"--- Solving Question 2(ii): Finding and counting minimal paths ---\")\n",
        "minimal_len = -1\n",
        "# Find the minimal length by checking from length 1 upwards\n",
        "for length in range(1, MAX_POSSIBLE_LEN + 1):\n",
        "    solver_find_min = Solver()\n",
        "    x, y = add_module_b_constraints(solver_find_min, length)\n",
        "    if solver_find_min.check() == sat:\n",
        "        minimal_len = length\n",
        "        print(f\"Found minimal path length to be: {minimal_len}\")\n",
        "        break\n",
        "\n",
        "# Now, count the paths for the minimal length\n",
        "solver_min_count = Solver()\n",
        "x_min, y_min = add_module_b_constraints(solver_min_count, minimal_len)\n",
        "num_minimal_paths = count_models(solver_min_count, x_min, y_min)\n",
        "print(f\"Result: The total number of minimal paths is {num_minimal_paths}.\\n\")\n",
        "\n",
        "# ==============================================================================\n",
        "#  PART 2(i): Find the number of ALL possible robot's movements\n",
        "# ==============================================================================\n",
        "print(\"--- Solving Question 2(i): Counting all possible paths ---\")\n",
        "total_paths = 0\n",
        "# Loop from the minimal length up to the maximum possible length\n",
        "for length in range(minimal_len, MAX_POSSIBLE_LEN + 1):\n",
        "    solver_len = Solver()\n",
        "    x_len, y_len = add_module_b_constraints(solver_len, length)\n",
        "    num_paths = count_models(solver_len, x_len, y_len)\n",
        "    print(f\"Found {num_paths} paths of length {length}\")\n",
        "    total_paths += num_paths\n",
        "\n",
        "print(f\"Result: The total number of all possible paths is {total_paths}.\\n\")\n",
        "\n",
        "# ==============================================================================\n",
        "#  PART 2(iii): Show all minimal movements must pass C, D, and E\n",
        "# ==============================================================================\n",
        "print(\"--- Solving Question 2(iii): Proof by contradiction ---\")\n",
        "solver_proof = Solver()\n",
        "x_p, y_p = add_module_b_constraints(solver_proof, minimal_len)\n",
        "\n",
        "# Helper constraints to check if a path passes through a point\n",
        "path_passes_C = Or([And(x_p[i] == POINT_C[0], y_p[i] == POINT_C[1]) for i in range(1, minimal_len)])\n",
        "path_passes_D = Or([And(x_p[i] == POINT_D[0], y_p[i] == POINT_D[1]) for i in range(1, minimal_len)])\n",
        "path_passes_E = Or([And(x_p[i] == POINT_E[0], y_p[i] == POINT_E[1]) for i in range(1, minimal_len)])\n",
        "\n",
        "# Add the contradiction: A path exists that AVOIDS C OR AVOIDS D OR AVOIDS E\n",
        "solver_proof.add(Or(Not(path_passes_C), Not(path_passes_D), Not(path_passes_E)))\n",
        "\n",
        "result = solver_proof.check()\n",
        "print(f\"Result of checking for a minimal path that avoids C, D, or E: {result}\")\n",
        "if result == unsat:\n",
        "    print(\"Proof: The solver returned 'unsat', proving that all minimal paths must pass through C, D, and E.\")\n",
        "else:\n",
        "    print(\"Proof failed: A counterexample path was found.\")\n"
      ],
      "metadata": {
        "colab": {
          "base_uri": "https://localhost:8080/"
        },
        "id": "_mfin4J0YSNN",
        "outputId": "63965217-6b05-42ae-8dcc-9cccb4f0299b"
      },
      "execution_count": 4,
      "outputs": [
        {
          "output_type": "stream",
          "name": "stdout",
          "text": [
            "--- Solving Question 2(ii): Finding and counting minimal paths ---\n",
            "Found minimal path length to be: 6\n",
            "Result: The total number of minimal paths is 2.\n",
            "\n",
            "--- Solving Question 2(i): Counting all possible paths ---\n",
            "Found 2 paths of length 6\n",
            "Found 11 paths of length 7\n",
            "Found 24 paths of length 8\n",
            "Found 25 paths of length 9\n",
            "Found 10 paths of length 10\n",
            "Result: The total number of all possible paths is 72.\n",
            "\n",
            "--- Solving Question 2(iii): Proof by contradiction ---\n",
            "Result of checking for a minimal path that avoids C, D, or E: unsat\n",
            "Proof: The solver returned 'unsat', proving that all minimal paths must pass through C, D, and E.\n"
          ]
        }
      ]
    }
  ]
}