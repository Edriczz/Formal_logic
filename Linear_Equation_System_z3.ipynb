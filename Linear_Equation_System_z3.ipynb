{
  "nbformat": 4,
  "nbformat_minor": 0,
  "metadata": {
    "colab": {
      "provenance": [],
      "authorship_tag": "ABX9TyMHWLDIz08J/pJacy1KMYQI",
      "include_colab_link": true
    },
    "kernelspec": {
      "name": "python3",
      "display_name": "Python 3"
    },
    "language_info": {
      "name": "python"
    }
  },
  "cells": [
    {
      "cell_type": "markdown",
      "metadata": {
        "id": "view-in-github",
        "colab_type": "text"
      },
      "source": [
        "<a href=\"https://colab.research.google.com/github/Edriczz/Formal_logic/blob/main/Linear_Equation_System_z3.ipynb\" target=\"_parent\"><img src=\"https://colab.research.google.com/assets/colab-badge.svg\" alt=\"Open In Colab\"/></a>"
      ]
    },
    {
      "cell_type": "code",
      "execution_count": 3,
      "metadata": {
        "colab": {
          "base_uri": "https://localhost:8080/"
        },
        "id": "gY_pWNLNdnxK",
        "outputId": "48407ce1-abf6-4469-ae06-76ccb9293296"
      },
      "outputs": [
        {
          "output_type": "stream",
          "name": "stdout",
          "text": [
            "Requirement already satisfied: z3-solver in /usr/local/lib/python3.11/dist-packages (4.15.0.0)\n"
          ]
        }
      ],
      "source": [
        "# prompt: install z3 solver library\n",
        "\n",
        "!pip install z3-solver\n",
        "from z3 import*"
      ]
    },
    {
      "cell_type": "code",
      "source": [
        "x=Real('x')\n",
        "y=Real('y')\n",
        "z=Real('z')\n",
        "s=Solver()\n",
        "s.add(x+2*y+3*z==1)\n",
        "s.add(-2*x+y+z==3)\n",
        "s.add(3*x-y+2*z==0)\n",
        "print(s.check())\n",
        "mod=s.model()\n",
        "print(mod)"
      ],
      "metadata": {
        "colab": {
          "base_uri": "https://localhost:8080/"
        },
        "id": "H0weH_HYeFTC",
        "outputId": "fb17291c-a08a-40de-b380-66816c7b7c27"
      },
      "execution_count": 5,
      "outputs": [
        {
          "output_type": "stream",
          "name": "stdout",
          "text": [
            "sat\n",
            "[y = -1, x = -9/7, z = 10/7]\n"
          ]
        }
      ]
    },
    {
      "cell_type": "code",
      "source": [
        "A=Int('A')\n",
        "B=Int('B')\n",
        "C=Int('C')\n",
        "D=Int('D')\n",
        "s=Solver()\n",
        "s.add(A+2*B+3*C+4*D==1)"
      ],
      "metadata": {
        "id": "oPMj3tx0ekl2"
      },
      "execution_count": null,
      "outputs": []
    },
    {
      "cell_type": "code",
      "source": [
        "\n",
        "# Define integer variables for each letter\n",
        "A, B, C, D, E = Ints('A B C D E')\n",
        "\n",
        "# Create a solver instance\n",
        "s = Solver()\n",
        "\n",
        "# Set constraints: each variable is a digit from 0 to 9\n",
        "s.add(And(1 <= A, A <= 9))\n",
        "s.add(And(0 <= B, B <= 9))\n",
        "s.add(And(0 <= C, C <= 9))\n",
        "s.add(And(1 <= D, D <= 9))\n",
        "s.add(And(1 <= E, E <= 9))\n",
        "\n",
        "# Set constraints: A and D cannot be 0 (leading digits)\n",
        "s.add(A != 0)\n",
        "s.add(D != 0)\n",
        "\n",
        "# Set constraints: all letters must be distinct\n",
        "s.add(Distinct(A, B, C, D, E))\n",
        "\n",
        "# Implement the equation ABCD * E = DCBA\n",
        "# ABCD = 1000*A + 100*B + 10*C + D\n",
        "# DCBA = 1000*D + 100*C + 10*B + A\n",
        "s.add((1000*A + 100*B + 10*C + D) * E == (1000*D + 100*C + 10*B + A))\n",
        "\n",
        "# Check if a solution exists and print the model\n",
        "if s.check() == sat:\n",
        "    model = s.model()\n",
        "    print(f\"A = {model[A]}\")\n",
        "    print(f\"B = {model[B]}\")\n",
        "    print(f\"C = {model[C]}\")\n",
        "    print(f\"D = {model[D]}\")\n",
        "    print(f\"E = {model[E]}\")\n",
        "else:\n",
        "    print(\"No solution found.\")"
      ],
      "metadata": {
        "colab": {
          "base_uri": "https://localhost:8080/"
        },
        "id": "PO0RwOdfhF_s",
        "outputId": "65336f86-357b-44b6-98ca-6577f5112b4c"
      },
      "execution_count": 4,
      "outputs": [
        {
          "output_type": "stream",
          "name": "stdout",
          "text": [
            "A = 2\n",
            "B = 1\n",
            "C = 7\n",
            "D = 8\n",
            "E = 4\n"
          ]
        }
      ]
    },
    {
      "cell_type": "code",
      "source": [
        "vars=[Int(f'a{i}') for i in range(6)]\n",
        "s.add(Distinct(vars))\n",
        "s.add(And(vars[i]>=1 for i in range(6)))\n",
        "s.add(And(vars[i]<=6 for i in range(6)))\n",
        "\n",
        "s.add(Not(vars[0]==1))\n",
        "s.add(Not(vars[0]==2))\n",
        "s.add(Not(vars[0]==3))\n",
        "s.add(Not(vars[0]==4))\n",
        "s.add(Not(vars[0]==5))\n",
        "s.add(Not(vars[0]==6"
      ],
      "metadata": {
        "colab": {
          "base_uri": "https://localhost:8080/"
        },
        "id": "5r7MKRvVmyU8",
        "outputId": "6f67cfbe-53b6-4587-df80-0492d1a96079"
      },
      "execution_count": 9,
      "outputs": [
        {
          "output_type": "stream",
          "name": "stdout",
          "text": [
            "[a0, a1, a2, a3, a4, a5]\n"
          ]
        }
      ]
    }
  ]
}