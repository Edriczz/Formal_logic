{
  "nbformat": 4,
  "nbformat_minor": 0,
  "metadata": {
    "colab": {
      "provenance": [],
      "authorship_tag": "ABX9TyO7cb47y/mx2hFsRaw+NULp",
      "include_colab_link": true
    },
    "kernelspec": {
      "name": "python3",
      "display_name": "Python 3"
    },
    "language_info": {
      "name": "python"
    }
  },
  "cells": [
    {
      "cell_type": "markdown",
      "metadata": {
        "id": "view-in-github",
        "colab_type": "text"
      },
      "source": [
        "<a href=\"https://colab.research.google.com/github/Edriczz/Formal_logic/blob/main/Edge_Coloring_with_Z3.ipynb\" target=\"_parent\"><img src=\"https://colab.research.google.com/assets/colab-badge.svg\" alt=\"Open In Colab\"/></a>"
      ]
    },
    {
      "cell_type": "markdown",
      "source": [
        "##Edge Coloring\n",
        "there are not only proper vertex coloring on graph, there also edge coloring on graph that we will determine each **edge chromatic number** on a graph.\n"
      ],
      "metadata": {
        "id": "1f7frDnDtLns"
      }
    },
    {
      "cell_type": "code",
      "execution_count": 4,
      "metadata": {
        "colab": {
          "base_uri": "https://localhost:8080/"
        },
        "id": "p8lvqd43kFpo",
        "outputId": "bf3863db-3a69-487f-8881-6070f068dfb1"
      },
      "outputs": [
        {
          "output_type": "stream",
          "name": "stdout",
          "text": [
            "Requirement already satisfied: z3-solver in /usr/local/lib/python3.11/dist-packages (4.15.0.0)\n"
          ]
        }
      ],
      "source": [
        "# prompt: install z3 solver library\n",
        "\n",
        "!pip install z3-solver"
      ]
    },
    {
      "cell_type": "code",
      "source": [
        "from z3 import *"
      ],
      "metadata": {
        "id": "01n15M6snhif"
      },
      "execution_count": 5,
      "outputs": []
    },
    {
      "cell_type": "code",
      "source": [
        "def convert_adj_matrix_to_graph_data(adj_matrix):\n",
        "    \"\"\"\n",
        "    Converts an adjacency matrix to the number of vertices and a list of edges,\n",
        "    treating the graph as simple (ignoring multi-edges and multiple loops).\n",
        "    Args:\n",
        "        adj_matrix (list of list of int): The adjacency matrix.\n",
        "                                          adj_matrix[i][j] > 0 means an edge exists between i and j.\n",
        "                                          Counts > 1 are treated as 1 (simple graph).\n",
        "                                          For undirected graphs, it should be symmetric.\n",
        "                                          Loops are adj_matrix[i][i] > 0.\n",
        "    Returns:\n",
        "        tuple (int, list): Number of vertices, list of edge tuples for the simple graph.\n",
        "                           e.g., if adj_matrix[0][1]=2, one edge (0,1) is added.\n",
        "    Raises:\n",
        "        ValueError: If matrix is not square or contains negative entries.\n",
        "    \"\"\"\n",
        "    num_vertices = len(adj_matrix)\n",
        "    if num_vertices == 0:\n",
        "        return 0, []\n",
        "\n",
        "    # Validate square matrix\n",
        "    for i, row in enumerate(adj_matrix):\n",
        "        if len(row) != num_vertices:\n",
        "            raise ValueError(f\"Adjacency matrix must be square. Row {i} has length {len(row)}, expected {num_vertices}.\")\n",
        "\n",
        "    edges = []\n",
        "    # Iterate upper triangle (j >= i) to process each potential edge/loop once\n",
        "    for i in range(num_vertices):\n",
        "        for j in range(i, num_vertices):\n",
        "            count = adj_matrix[i][j]\n",
        "            if count < 0:\n",
        "                raise ValueError(f\"Adjacency matrix entry adj_matrix[{i}][{j}] cannot be negative: {count}\")\n",
        "\n",
        "            # For undirected graphs, matrix should be symmetric in terms of edge existence.\n",
        "            # The actual counts might differ if original was a multigraph, but we only care about existence.\n",
        "            if i != j and (adj_matrix[i][j] > 0) != (adj_matrix[j][i] > 0):\n",
        "                print(f\"Warning: Adjacency matrix implies non-symmetric edge existence for ({i},{j}). \"\n",
        "                      f\"adj_matrix[{i}][{j}]={adj_matrix[i][j]}, adj_matrix[{j}][{i}]={adj_matrix[j][i]}. \"\n",
        "                      f\"Using upper triangle: edge ({i},{j}) exists if adj_matrix[{i}][{j}] > 0.\")\n",
        "            elif i !=j and adj_matrix[i][j] != adj_matrix[j][i] and (adj_matrix[i][j] > 0 and adj_matrix[j][i] > 0) :\n",
        "                 print(f\"Note: Adjacency matrix has different counts for edge ({i},{j}) \"\n",
        "                      f\"adj_matrix[{i}][{j}]={adj_matrix[i][j]}, adj_matrix[{j}][{i}]={adj_matrix[j][i]}. \"\n",
        "                      f\"Interpreting as a single edge since multigraphs are ignored.\")\n",
        "\n",
        "\n",
        "            # If adj_matrix[i][j] > 0, an edge (or loop if i==j) exists. Add it once.\n",
        "            if count > 0:\n",
        "                edges.append((i, j))\n",
        "    return num_vertices, edges\n"
      ],
      "metadata": {
        "id": "TIVKj2Z9nk9G"
      },
      "execution_count": 13,
      "outputs": []
    },
    {
      "cell_type": "code",
      "source": [
        "def get_max_incident_edges(adj_matrix):\n",
        "    \"\"\"\n",
        "    Calculates the maximum number of edges incident to any single vertex in a graph\n",
        "    represented by an adjacency matrix, treating it as a simple graph.\n",
        "    This is Delta (max degree) of the simple graph.\n",
        "    A loop (adj_matrix[i][i] > 0) counts as one incident edge to vertex i for coloring.\n",
        "    Args:\n",
        "        adj_matrix (list of list of int): The adjacency matrix. Values > 1 are treated as 1.\n",
        "    Returns:\n",
        "        int: The maximum degree (Delta) of the interpreted simple graph.\n",
        "    \"\"\"\n",
        "    num_vertices = len(adj_matrix)\n",
        "    if num_vertices == 0:\n",
        "        return 0\n",
        "\n",
        "    max_degree = 0\n",
        "    for i in range(num_vertices):\n",
        "        current_vertex_degree = 0\n",
        "        for j in range(num_vertices):\n",
        "            if adj_matrix[i][j] > 0: # An edge (i,j) or loop (i,i) exists\n",
        "                current_vertex_degree += 1\n",
        "        if current_vertex_degree > max_degree:\n",
        "            max_degree = current_vertex_degree\n",
        "\n",
        "    return max_degree"
      ],
      "metadata": {
        "id": "des5xYCzntLv"
      },
      "execution_count": 15,
      "outputs": []
    },
    {
      "cell_type": "code",
      "source": [
        "def solve_edge_coloring_from_adj_matrix(adj_matrix, k_colors):\n",
        "    \"\"\"\n",
        "    Tries to find a k-edge-coloring for the graph (from adj_matrix) using Z3.\n",
        "    Args:\n",
        "        adj_matrix (list of list of int): The adjacency matrix.\n",
        "        k_colors (int): The number of available colors.\n",
        "    Returns:\n",
        "        list or None: A list of colors corresponding to the order of edges\n",
        "                      derived from adj_matrix if a k-coloring exists, otherwise None.\n",
        "    \"\"\"\n",
        "    num_vertices, edges = convert_adj_matrix_to_graph_data(adj_matrix)\n",
        "\n",
        "    if not edges: # No edges to color\n",
        "        return []\n",
        "\n",
        "    s = Solver()\n",
        "    # Create a color variable for each edge instance.\n",
        "    edge_vars = [Int(f\"edge_{i}_color\") for i in range(len(edges))]\n",
        "\n",
        "    # Constraint 1: Each edge's color must be between 1 and k_colors.\n",
        "    for i in range(len(edges)):\n",
        "        s.add(And(edge_vars[i] >= 1, edge_vars[i] <= k_colors))\n",
        "\n",
        "    # Constraint 2: Edges sharing a common vertex must have different colors.\n",
        "    for v_idx in range(num_vertices):\n",
        "        incident_edge_color_vars = []\n",
        "        for edge_idx, (u, v_node) in enumerate(edges):\n",
        "            # An edge (u, v_node) is incident to v_idx if v_idx is one of its endpoints.\n",
        "            if u == v_idx or v_node == v_idx:\n",
        "                incident_edge_color_vars.append(edge_vars[edge_idx])\n",
        "\n",
        "        if len(incident_edge_color_vars) > 1:\n",
        "            s.add(Distinct(incident_edge_color_vars))\n",
        "\n",
        "    if s.check() == sat:\n",
        "        model = s.model()\n",
        "        coloring_list = [model[edge_vars[i]].as_long() for i in range(len(edges))]\n",
        "        return coloring_list\n",
        "    else:\n",
        "        return None"
      ],
      "metadata": {
        "id": "u8caeUb0nu3m"
      },
      "execution_count": 16,
      "outputs": []
    },
    {
      "cell_type": "code",
      "source": [
        "def find_edge_chromatic_number_from_adj_matrix(adj_matrix):\n",
        "    \"\"\"\n",
        "    Finds the edge chromatic number of a graph defined by an adjacency matrix.\n",
        "    Args:\n",
        "        adj_matrix (list of list of int): The adjacency matrix.\n",
        "    Returns:\n",
        "        tuple (int, list): (edge_chromatic_number, list_of_colored_edges)\n",
        "                           list_of_colored_edges is [(edge_tuple, color), ...].\n",
        "                           Returns (0, []) for an empty graph.\n",
        "                           Returns (-1, []) if no coloring found in search range.\n",
        "    \"\"\"\n",
        "    num_vertices, edge_list_for_output = convert_adj_matrix_to_graph_data(adj_matrix)\n",
        "\n",
        "    if not edge_list_for_output:\n",
        "        return 0, [] # No edges, 0 colors needed.\n",
        "\n",
        "    # Lower bound for k is the maximum number of edges incident to any single vertex.\n",
        "    start_k = get_max_incident_edges(adj_matrix)\n",
        "\n",
        "    # If start_k is 0 but there are edges, something is wrong, but convert_... should ensure edges exist if start_k > 0\n",
        "    # If graph has edges, start_k must be at least 1.\n",
        "    if start_k == 0 and edge_list_for_output: # Should ideally not happen if graph has edges\n",
        "        start_k = 1\n",
        "\n",
        "    # Search for the minimum number of colors k.\n",
        "    # Upper bound: number of edges in the graph + 1 (for the range).\n",
        "    # len(edge_list_for_output) is the total number of edges (counting multiedges).\n",
        "    for k in range(start_k, len(edge_list_for_output) + 2):\n",
        "        print(f\"Attempting to edge-color with {k} colors...\")\n",
        "        coloring_result_list = solve_edge_coloring_from_adj_matrix(adj_matrix, k)\n",
        "\n",
        "        if coloring_result_list is not None:\n",
        "            print(f\"Successfully found an edge coloring with {k} colors.\")\n",
        "            # Pair the derived edge_list_for_output with the found colors\n",
        "            final_coloring_representation = []\n",
        "            if len(edge_list_for_output) != len(coloring_result_list):\n",
        "                # This should not happen if logic is correct\n",
        "                print(\"Error: Mismatch between number of edges and number of colors returned.\")\n",
        "                return -1, []\n",
        "            for i in range(len(edge_list_for_output)):\n",
        "                final_coloring_representation.append( (edge_list_for_output[i], coloring_result_list[i]) )\n",
        "            return k, final_coloring_representation\n",
        "        else:\n",
        "            print(f\"Failed to find an edge coloring with {k} colors.\")\n",
        "\n",
        "    print(\"Could not determine the edge chromatic number within the search range.\")\n",
        "    return -1, []"
      ],
      "metadata": {
        "id": "a5CA9eLKnzn1"
      },
      "execution_count": 17,
      "outputs": []
    },
    {
      "cell_type": "code",
      "source": [
        "if __name__ == '__main__':\n",
        "    # --- Example Test Cases ---\n",
        "\n",
        "    # 1. Triangle graph (C3)\n",
        "    # Expected chromatic number: 3 (Max incident edges = 2. Odd cycle => Delta + 1)\n",
        "    print(\"\\n--- Example 1: Triangle Graph (C3) ---\")\n",
        "    adj_c3 = [\n",
        "        [0, 1, 1],\n",
        "        [1, 0, 1],\n",
        "        [1, 1, 0]\n",
        "    ]\n",
        "    try:\n",
        "        chi_prime_c3, coloring_c3 = find_edge_chromatic_number_from_adj_matrix(adj_c3)\n",
        "        print(f\"Edge chromatic number for C3: {chi_prime_c3}\")\n",
        "        if chi_prime_c3 != -1:\n",
        "            print(\"Coloring:\")\n",
        "            for edge, color in coloring_c3:\n",
        "                print(f\"Edge {edge}: Color {color}\")\n",
        "    except ValueError as e:\n",
        "        print(f\"Error: {e}\")\n",
        "\n",
        "\n"
      ],
      "metadata": {
        "colab": {
          "base_uri": "https://localhost:8080/"
        },
        "id": "RW2hKeCjkWdA",
        "outputId": "636eee75-f2e1-45ab-effa-c730b5a368c2"
      },
      "execution_count": 20,
      "outputs": [
        {
          "output_type": "stream",
          "name": "stdout",
          "text": [
            "\n",
            "--- Example 1: Triangle Graph (C3) ---\n",
            "Attempting to edge-color with 2 colors...\n",
            "Failed to find an edge coloring with 2 colors.\n",
            "Attempting to edge-color with 3 colors...\n",
            "Successfully found an edge coloring with 3 colors.\n",
            "Edge chromatic number for C3: 3\n",
            "Coloring:\n",
            "Edge (0, 1): Color 1\n",
            "Edge (0, 2): Color 2\n",
            "Edge (1, 2): Color 3\n"
          ]
        }
      ]
    },
    {
      "cell_type": "code",
      "source": [
        "    print(\"\\n--- Example Graph ---\")\n",
        "    adj_xyz =[\n",
        "        #  1  2  3  4  5  6\n",
        "        [0, 1, 0, 1, 0, 0],  # vertex 1: connected to 2, 4\n",
        "        [1, 0, 1, 1, 1, 0],  # vertex 2: connected to 1, 3, 4, 5\n",
        "        [0, 1, 0, 1, 1, 1],  # vertex 3: connected to 2, 4, 5, 6\n",
        "        [1, 1, 1, 0, 1, 0],  # vertex 4: connected to 1, 2, 3, 5\n",
        "        [0, 1, 1, 1, 0, 1],  # vertex 5: connected to 2, 3, 4, 6\n",
        "        [0, 0, 1, 0, 1, 0]   # vertex 6: connected to 3 , 5\n",
        "    ]\n",
        "    try:\n",
        "        chi_prime_xyz, coloring_xyz = find_edge_chromatic_number_from_adj_matrix(adj_xyz)\n",
        "        print(f\"Edge chromatic number for xyz: {chi_prime_xyz}\")\n",
        "        if chi_prime_xyz != -1:\n",
        "            print(\"Coloring:\")\n",
        "            for edge, color in coloring_xyz:\n",
        "                print(f\"Edge {edge}: Color {color}\")\n",
        "    except ValueError as e:\n",
        "        print(f\"Error: {e}\")"
      ],
      "metadata": {
        "colab": {
          "base_uri": "https://localhost:8080/"
        },
        "id": "Un_VFZYzrfS9",
        "outputId": "72209c15-acb4-45c8-ab06-d9ffbe4631e6"
      },
      "execution_count": 23,
      "outputs": [
        {
          "output_type": "stream",
          "name": "stdout",
          "text": [
            "\n",
            "--- Example Graph ---\n",
            "Attempting to edge-color with 4 colors...\n",
            "Successfully found an edge coloring with 4 colors.\n",
            "Edge chromatic number for xyz: 4\n",
            "Coloring:\n",
            "Edge (0, 1): Color 4\n",
            "Edge (0, 3): Color 3\n",
            "Edge (1, 2): Color 2\n",
            "Edge (1, 3): Color 1\n",
            "Edge (1, 4): Color 3\n",
            "Edge (2, 3): Color 4\n",
            "Edge (2, 4): Color 1\n",
            "Edge (2, 5): Color 3\n",
            "Edge (3, 4): Color 2\n",
            "Edge (4, 5): Color 4\n"
          ]
        }
      ]
    }
  ]
}