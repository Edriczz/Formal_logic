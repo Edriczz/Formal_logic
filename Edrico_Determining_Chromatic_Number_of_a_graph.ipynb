{
  "cells": [
    {
      "cell_type": "markdown",
      "metadata": {
        "id": "view-in-github",
        "colab_type": "text"
      },
      "source": [
        "<a href=\"https://colab.research.google.com/github/Edriczz/Formal_logic/blob/main/Edrico_Determining_Chromatic_Number_of_a_graph.ipynb\" target=\"_parent\"><img src=\"https://colab.research.google.com/assets/colab-badge.svg\" alt=\"Open In Colab\"/></a>"
      ]
    },
    {
      "cell_type": "markdown",
      "source": [
        "Edrico Septian Elyazar \\\\\n",
        "5002221101 \\\\\n",
        "Homework 2"
      ],
      "metadata": {
        "id": "5ZDSartYRfvX"
      }
    },
    {
      "cell_type": "markdown",
      "source": [
        "#**Determining Chromatic Number of a Graph**"
      ],
      "metadata": {
        "id": "N1bD3qXeRlYx"
      }
    },
    {
      "cell_type": "markdown",
      "source": [
        "This homework will determine the value of chromatic number of a graph. Chromatic Number of a graph is the minimum number of colors needed to color the vertices of the graph such that no two adjacent vertices have the same color. for this assignment involves an initial step where the graph must be converted into an adjacency matrix."
      ],
      "metadata": {
        "id": "aVwE0tNPyGt7"
      }
    },
    {
      "cell_type": "markdown",
      "source": [
        "for instance if you want to know the chromatic numbers of a complete bipartite graph $K$<sub>$3,3$</sub>"
      ],
      "metadata": {
        "id": "Dvvd6Ba8zuyw"
      }
    },
    {
      "cell_type": "markdown",
      "source": [
        "Graph $K$<sub>$3,3$</sub> would look like something like this \\\\\n",
        "<img src=\"https://upload.wikimedia.org/wikipedia/commons/1/11/Complete_bipartite_graph_K3%2C3.svg\" width=\"200\"> \\\\\n",
        "using adjacency matrix approach this $K$<sub>$3,3$</sub> would look like this \\\\\n",
        "$$\n",
        "A_{K_{3,3}} =\n",
        "\\begin{bmatrix}\n",
        "0 & 0 & 0 & 1 & 1 & 1 \\\\\n",
        "0 & 0 & 0 & 1 & 1 & 1 \\\\\n",
        "0 & 0 & 0 & 1 & 1 & 1 \\\\\n",
        "1 & 1 & 1 & 0 & 0 & 0 \\\\\n",
        "1 & 1 & 1 & 0 & 0 & 0 \\\\\n",
        "1 & 1 & 1 & 0 & 0 & 0\n",
        "\\end{bmatrix}\n",
        "$$ \\\\\n",
        "this matrix will have $N$ x $N$, which $N$ is the number of total vertices of a graph (which in this case is $K_{3,3}$). So $K_{3,3}$ will have a $6$ x $6$ adjacency matrix. This matrix surely have elements which we will call it by $A_{ij}$ which $i,j\\leq6$ and. If $A_{ij}=1$ in that matrix it means that $i$ adjacent with $j$ or you can say that $i$ construct an edge to $j$."
      ],
      "metadata": {
        "id": "FYYt6WEU2pAa"
      }
    },
    {
      "cell_type": "markdown",
      "source": [
        "So in order to solve any chromatic number of graph, we should convert\n",
        "that graph to adjacency matrix. After that we want to list all edge and vertices using **adj_matrix_to_graph(adj_matrix)** function on the code below. After we define all edges and vertices from adjacency matrix. We should check the satisfiability of proper vertex coloring which that goes like:\n",
        "<p align=\"center\"><b>Is there a way to assign a color $(c_i)$ to each vertex $(v_i)$ from the set of colors ${0,1,...,k−1}$, SUCH THAT ALL vertices receive a color within that range AND ALL pairs of adjacent vertices have different colors?</b></p>\n",
        "\n",
        "or in other hand we will check the satisfiability of this formula: \\\\\n",
        "\n",
        "$$\n",
        "\\exists c_1, c_2, ..., c_n : \\left( \\bigwedge_{i=1}^{n} (0 \\le c_i < k) \\right) \\land \\left( \\bigwedge_{(v_i, v_j) \\in E} (c_i \\neq c_j) \\right)\n",
        "$$ \\\\\n",
        "in order to check the satisfiability of that formula we will do it slowly by assign $k=1$ first, if $k=1$ is unsatisfiable, the code will add +1 to the $k$ each time the formula unsatisfiable until the formula satisfiable. **The first value of $k$ that makes the formula satisfiable, we called that $k$ as the chromatic number of that graph**. Which that $k$ loops and colorable algorithm is in **check_k_colorable(vertices, edges, k)** and **find_chromatic_number_from_adj_matrix(adj_matrix) functions**"
      ],
      "metadata": {
        "id": "khohpxHv8vo2"
      }
    },
    {
      "cell_type": "code",
      "source": [
        "# prompt: install z3 solver library\n",
        "!pip install z3-solver"
      ],
      "metadata": {
        "colab": {
          "base_uri": "https://localhost:8080/"
        },
        "id": "9qU77OUPGENU",
        "outputId": "45cd92c4-e840-4aa5-c5d7-3b7e90715f43"
      },
      "execution_count": 1,
      "outputs": [
        {
          "output_type": "stream",
          "name": "stdout",
          "text": [
            "Collecting z3-solver\n",
            "  Downloading z3_solver-4.15.0.0-py3-none-manylinux_2_17_x86_64.manylinux2014_x86_64.whl.metadata (602 bytes)\n",
            "Downloading z3_solver-4.15.0.0-py3-none-manylinux_2_17_x86_64.manylinux2014_x86_64.whl (29.5 MB)\n",
            "\u001b[2K   \u001b[90m━━━━━━━━━━━━━━━━━━━━━━━━━━━━━━━━━━━━━━━━\u001b[0m \u001b[32m29.5/29.5 MB\u001b[0m \u001b[31m37.7 MB/s\u001b[0m eta \u001b[36m0:00:00\u001b[0m\n",
            "\u001b[?25hInstalling collected packages: z3-solver\n",
            "Successfully installed z3-solver-4.15.0.0\n"
          ]
        }
      ]
    },
    {
      "cell_type": "code",
      "source": [
        "from z3 import *"
      ],
      "metadata": {
        "id": "7EjKeVujGAm0"
      },
      "execution_count": 2,
      "outputs": []
    },
    {
      "cell_type": "code",
      "source": [
        "def adj_matrix_to_graph(adj_matrix):\n",
        "\n",
        "    num_vertices = len(adj_matrix)\n",
        "    vertices = list(range(num_vertices))\n",
        "    edges = []\n",
        "    for i in range(num_vertices):\n",
        "        for j in range(i + 1, num_vertices):\n",
        "            if adj_matrix[i][j] == 1:\n",
        "                edges.append((i, j))\n",
        "    return vertices, edges"
      ],
      "metadata": {
        "id": "w44fK3CIGM_Z"
      },
      "execution_count": 3,
      "outputs": []
    },
    {
      "cell_type": "code",
      "source": [
        "def check_k_colorable(vertices, edges, k):\n",
        "    s = Solver()\n",
        "    # 2. Making variable for color on each vertices\n",
        "    # every v on will have variable 'color_v'\n",
        "    node_colors= {v: Int(f'node_{v}_color') for v in vertices}\n",
        "\n",
        "    # 3. Adding constraints\n",
        "    # a.Every vertices must have color between 0 and k-1\n",
        "    for v_node_loop in vertices: # changing variable name v to v_node_loop to preventing conflict\n",
        "        s.add(And(node_colors[v_node_loop] >= 0, node_colors[v_node_loop] < k))\n",
        "\n",
        "    # b. Vertices that is adjacent must have distinct color\n",
        "    for u, v_node_edge in edges: # changing variable name v to v_node_edge to preventing conflict\n",
        "        s.add(node_colors[u] != node_colors[v_node_edge])\n",
        "\n",
        "    # 4. Checking Satisfiability\n",
        "    if s.check() == sat:\n",
        "       #if sat, find one model\n",
        "        m = s.model()\n",
        "        coloring_result = {v_node_model: m[node_colors[v_node_model]].as_long() for v_node_model in vertices} # Changing variable name v\n",
        "        return coloring_result\n",
        "    else:\n",
        "        return False\n"
      ],
      "metadata": {
        "id": "5Pba_bLpGP1w"
      },
      "execution_count": 4,
      "outputs": []
    },
    {
      "cell_type": "code",
      "source": [
        "\n",
        "def find_chromatic_number_from_adj_matrix(adj_matrix):\n",
        "\n",
        "    vertices, edges = adj_matrix_to_graph(adj_matrix)\n",
        "\n",
        "    if not vertices:\n",
        "        print(\"Empty graph.\")\n",
        "        return None, None\n",
        "\n",
        "    num_v = len(vertices)\n",
        "    print(f\"Graph have {num_v} vertices.\")\n",
        "    print(f\"Graph Edges: {edges}\")\n",
        "\n",
        "    # finding Chromatic Number by trying k from 1 until the sum of total verteks\n",
        "    for k_colors in range(1, num_v + 2): # Coba dari 1 hingga N+1 (N adalah jumlah simpul)\n",
        "        print(f\"\\nTrying to color the graph with {k_colors} colors...\")\n",
        "        coloring = check_k_colorable(vertices, edges, k_colors)\n",
        "        if coloring:\n",
        "            print(f\"Gotcha! This Graph could be colored with {k_colors} color.\")\n",
        "            print(f\"Chromatic Number(χ(G)): {k_colors}\")\n",
        "            print(f\"Coloring Example: {coloring}\")\n",
        "            return k_colors, coloring\n",
        "        else:\n",
        "            print(f\"Failed to color with {k_colors} color.\")\n",
        "\n",
        "    return None, None\n"
      ],
      "metadata": {
        "id": "rnEQpZ2YGiI9"
      },
      "execution_count": 5,
      "outputs": []
    },
    {
      "cell_type": "code",
      "source": [
        "\n",
        "# --- Executable ---\n",
        "if __name__ == \"__main__\":\n",
        "  #K3,3 Graph\n",
        "    adj_matrix_k33 = [\n",
        "        [0,0,0,1,1,1],\n",
        "        [0,0,0,1,1,1],\n",
        "        [0,0,0,1,1,1],\n",
        "        [1,1,1,0,0,0],\n",
        "        [1,1,1,0,0,0],\n",
        "        [1,1,1,0,0,0]\n",
        "    ]\n",
        "    print(\"--- analyzing Graph K3,3 ---\")\n",
        "    find_chromatic_number_from_adj_matrix(adj_matrix_k33)\n",
        "    print(\"\\n\" + \"=\"*30 + \"\\n\")\n",
        "\n",
        "\n"
      ],
      "outputs": [
        {
          "output_type": "stream",
          "name": "stdout",
          "text": [
            "--- analyzing Graph K3,3 ---\n",
            "Graph have 6 vertices.\n",
            "Graph Edges: [(0, 3), (0, 4), (0, 5), (1, 3), (1, 4), (1, 5), (2, 3), (2, 4), (2, 5)]\n",
            "\n",
            "Trying to color the graph with 1 colors...\n",
            "Fail to colored with 1 color.\n",
            "\n",
            "Trying to color the graph with 2 colors...\n",
            "Gotcha! This Graph could be colored with 2 color.\n",
            "Chromatic Number(χ(G)): 2\n",
            "Coloring Example: {0: 1, 1: 1, 2: 1, 3: 0, 4: 0, 5: 0}\n",
            "\n",
            "==============================\n",
            "\n"
          ]
        }
      ],
      "execution_count": 8,
      "metadata": {
        "colab": {
          "base_uri": "https://localhost:8080/"
        },
        "id": "2gk6eaEuFFr6",
        "outputId": "678a834e-9a46-4245-cb38-503f791de94d"
      }
    },
    {
      "cell_type": "markdown",
      "source": [
        "we also use more complex graph as example to determine the chromatic number. As example inspiration we use graph that often considered as **beautiful graph** on the **pearl on graph theory book by Nora Hartsfield and Gerhard Ringel** such as: \\\\\n",
        "$Petersen$ $Graph$ \\\\\n",
        "<img src=\"https://images.saymedia-content.com/.image/t_share/MTc3MjA5MTIwMzkzNDA2MjAx/what-are-the-basics-and-real-world-applications-of-graph-theory.png\" width=\"200\"> \\\\\n",
        "$Heawood$ $Graph$ \\\\\n",
        "<img src=\"https://blogs.ams.org/visualinsight/files/2015/08/heawood_graph.png\" width=\"200\">"
      ],
      "metadata": {
        "id": "v0pia559KqdU"
      }
    },
    {
      "cell_type": "code",
      "source": [
        "\n",
        "    #Petersen Graph\n",
        "    adj_matrix_petersen = [\n",
        "        [0, 1, 0, 0, 1, 1, 0, 0, 0, 0], # Simpul 0\n",
        "        [1, 0, 1, 0, 0, 0, 1, 0, 0, 0], # Simpul 1\n",
        "        [0, 1, 0, 1, 0, 0, 0, 1, 0, 0], # Simpul 2\n",
        "        [0, 0, 1, 0, 1, 0, 0, 0, 1, 0], # Simpul 3\n",
        "        [1, 0, 0, 1, 0, 0, 0, 0, 0, 1], # Simpul 4\n",
        "        [0, 1, 0, 0, 0, 0, 0, 0, 1, 1], # Simpul 6 (inner star point)\n",
        "        [1, 0, 0, 0, 0, 0, 0, 1, 1, 0], # Simpul 5 (inner star point)\n",
        "        [0, 0, 1, 0, 0, 1, 0, 0, 0, 1], # Simpul 7 (inner star point)\n",
        "        [0, 0, 0, 1, 0, 1, 1, 0, 0, 0], # Simpul 8 (inner star point)\n",
        "        [0, 0, 0, 0, 1, 0, 1, 1, 0, 0]  # Simpul 9 (inner star point)\n",
        "    ]\n",
        "    print(\"--- Analyzing Petersen Graph ---\")\n",
        "    find_chromatic_number_from_adj_matrix(adj_matrix_petersen)"
      ],
      "metadata": {
        "colab": {
          "base_uri": "https://localhost:8080/"
        },
        "id": "oTRy9wZUG0Ky",
        "outputId": "b64b588b-6aee-446a-937e-9c956d316550"
      },
      "execution_count": 7,
      "outputs": [
        {
          "output_type": "stream",
          "name": "stdout",
          "text": [
            "--- Menganalisis Graf Petersen ---\n",
            "Graph have 10 vertices.\n",
            "Graph Edges: [(0, 1), (0, 4), (0, 5), (1, 2), (1, 6), (2, 3), (2, 7), (3, 4), (3, 8), (4, 9), (5, 7), (5, 8), (6, 8), (6, 9), (7, 9)]\n",
            "\n",
            "Trying to color the graph with 1 colors...\n",
            "Fail to colored with 1 color.\n",
            "\n",
            "Trying to color the graph with 2 colors...\n",
            "Fail to colored with 2 color.\n",
            "\n",
            "Trying to color the graph with 3 colors...\n",
            "Gotcha! This Graph could be colored with 3 color.\n",
            "Chromatic Number(χ(G)): 3\n",
            "Coloring Example: {0: 2, 1: 0, 2: 1, 3: 2, 4: 0, 5: 1, 6: 1, 7: 0, 8: 0, 9: 2}\n"
          ]
        },
        {
          "output_type": "execute_result",
          "data": {
            "text/plain": [
              "(3, {0: 2, 1: 0, 2: 1, 3: 2, 4: 0, 5: 1, 6: 1, 7: 0, 8: 0, 9: 2})"
            ]
          },
          "metadata": {},
          "execution_count": 7
        }
      ]
    },
    {
      "cell_type": "markdown",
      "source": [],
      "metadata": {
        "id": "Nd2tA2N9Mpiq"
      }
    },
    {
      "cell_type": "code",
      "source": [
        "#Heawood Graph\n",
        "adj_matrix_heawood = [\n",
        "#    0  1  2  3  4  5  6  7  8  9 10 11 12 13\n",
        "    [0, 1, 0, 0, 0, 0, 0, 1, 0, 0, 0, 0, 0, 1], # 0\n",
        "    [1, 0, 1, 0, 0, 0, 0, 0, 1, 0, 0, 0, 0, 0], # 1\n",
        "    [0, 1, 0, 1, 0, 0, 0, 0, 0, 1, 0, 0, 0, 0], # 2\n",
        "    [0, 0, 1, 0, 1, 0, 0, 0, 0, 0, 1, 0, 0, 0], # 3\n",
        "    [0, 0, 0, 1, 0, 1, 0, 0, 0, 0, 0, 1, 0, 0], # 4\n",
        "    [0, 0, 0, 0, 1, 0, 1, 0, 0, 0, 0, 0, 1, 0], # 5\n",
        "    [0, 0, 0, 0, 0, 1, 0, 1, 0, 0, 0, 0, 0, 1], # 6\n",
        "    [1, 0, 0, 0, 0, 0, 1, 0, 1, 0, 0, 0, 0, 0], # 7\n",
        "    [0, 1, 0, 0, 0, 0, 0, 1, 0, 1, 0, 0, 0, 0], # 8\n",
        "    [0, 0, 1, 0, 0, 0, 0, 0, 1, 0, 1, 0, 0, 0], # 9\n",
        "    [0, 0, 0, 1, 0, 0, 0, 0, 0, 1, 0, 1, 0, 0], # 10\n",
        "    [0, 0, 0, 0, 1, 0, 0, 0, 0, 0, 1, 0, 1, 0], # 11\n",
        "    [0, 0, 0, 0, 0, 1, 0, 0, 0, 0, 0, 1, 0, 1], # 12\n",
        "    [1, 0, 0, 0, 0, 0, 1, 0, 0, 0, 0, 0, 1, 0], # 13\n",
        "]\n",
        "print(\"--- Analyzing Heawood Graph ---\")\n",
        "find_chromatic_number_from_adj_matrix(adj_matrix_heawood)"
      ],
      "metadata": {
        "colab": {
          "base_uri": "https://localhost:8080/"
        },
        "id": "aDv1jxHiMoXS",
        "outputId": "3fb3d705-5cc3-4085-9246-6092f133183b"
      },
      "execution_count": 9,
      "outputs": [
        {
          "output_type": "stream",
          "name": "stdout",
          "text": [
            "--- Analyzing Heawood Graph ---\n",
            "Graph have 14 vertices.\n",
            "Graph Edges: [(0, 1), (0, 7), (0, 13), (1, 2), (1, 8), (2, 3), (2, 9), (3, 4), (3, 10), (4, 5), (4, 11), (5, 6), (5, 12), (6, 7), (6, 13), (7, 8), (8, 9), (9, 10), (10, 11), (11, 12), (12, 13)]\n",
            "\n",
            "Trying to color the graph with 1 colors...\n",
            "Fail to colored with 1 color.\n",
            "\n",
            "Trying to color the graph with 2 colors...\n",
            "Gotcha! This Graph could be colored with 2 color.\n",
            "Chromatic Number(χ(G)): 2\n",
            "Coloring Example: {0: 1, 1: 0, 2: 1, 3: 0, 4: 1, 5: 0, 6: 1, 7: 0, 8: 1, 9: 0, 10: 1, 11: 0, 12: 1, 13: 0}\n"
          ]
        },
        {
          "output_type": "execute_result",
          "data": {
            "text/plain": [
              "(2,\n",
              " {0: 1,\n",
              "  1: 0,\n",
              "  2: 1,\n",
              "  3: 0,\n",
              "  4: 1,\n",
              "  5: 0,\n",
              "  6: 1,\n",
              "  7: 0,\n",
              "  8: 1,\n",
              "  9: 0,\n",
              "  10: 1,\n",
              "  11: 0,\n",
              "  12: 1,\n",
              "  13: 0})"
            ]
          },
          "metadata": {},
          "execution_count": 9
        }
      ]
    }
  ],
  "metadata": {
    "colab": {
      "provenance": [],
      "include_colab_link": true
    },
    "kernelspec": {
      "display_name": "Python 3",
      "name": "python3"
    }
  },
  "nbformat": 4,
  "nbformat_minor": 0
}