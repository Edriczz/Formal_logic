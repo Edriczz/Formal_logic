{
  "nbformat": 4,
  "nbformat_minor": 0,
  "metadata": {
    "colab": {
      "provenance": [],
      "authorship_tag": "ABX9TyM/Uhl2c8/vzzX3awvmka0l",
      "include_colab_link": true
    },
    "kernelspec": {
      "name": "python3",
      "display_name": "Python 3"
    },
    "language_info": {
      "name": "python"
    }
  },
  "cells": [
    {
      "cell_type": "markdown",
      "metadata": {
        "id": "view-in-github",
        "colab_type": "text"
      },
      "source": [
        "<a href=\"https://colab.research.google.com/github/Edriczz/Formal_logic/blob/main/Formal_Logic_EAS.ipynb\" target=\"_parent\"><img src=\"https://colab.research.google.com/assets/colab-badge.svg\" alt=\"Open In Colab\"/></a>"
      ]
    },
    {
      "cell_type": "code",
      "execution_count": 2,
      "metadata": {
        "colab": {
          "base_uri": "https://localhost:8080/"
        },
        "id": "xbz4Ox8QGGL1",
        "outputId": "c108913f-1bdc-4b6f-d429-15a323148284"
      },
      "outputs": [
        {
          "output_type": "stream",
          "name": "stdout",
          "text": [
            "Requirement already satisfied: z3-solver in /usr/local/lib/python3.11/dist-packages (4.15.1.0)\n"
          ]
        }
      ],
      "source": [
        "pip install z3-solver"
      ]
    },
    {
      "cell_type": "code",
      "source": [
        "from z3 import *\n",
        "\n",
        "# --- Problem Setup ---\n",
        "# Define grid boundaries and key coordinates from the exam document.\n",
        "START_POS = (0, 0)\n",
        "END_POS = (6, 4)\n",
        "\n",
        "# Interpretation of the red (forbidden) coordinates from Figure 1 .\n",
        "# A robot cannot pass through these points.\n",
        "RED_DOTS = [(2, 1), (4, 1), (2, 2), (3, 2), (4, 2), (2, 3), (3, 3)]\n",
        "\n",
        "# Interpretation of coordinates to be checked based on labels in Figure 1.\n",
        "# Note the contradictions with RED_DOTS for C and D.\n",
        "POS_C = (2, 1)\n",
        "POS_D = (3, 2)\n",
        "POS_E = (4, 3)\n",
        "\n",
        "def solve_and_count_all_paths(solver):\n",
        "    \"\"\"\n",
        "    Finds and counts all unique solutions (paths) for a given solver setup.\n",
        "    It iteratively finds a model and adds a constraint to exclude it in the\n",
        "    next search, until no more models can be found.\n",
        "    \"\"\"\n",
        "    count = 0\n",
        "    while solver.check() == sat:\n",
        "        count += 1\n",
        "        model = solver.model()\n",
        "        # Exclude the current solution to find the next one\n",
        "        path_block = []\n",
        "        for var in model.decls():\n",
        "            path_block.append(var() != model[var])\n",
        "        solver.add(Or(path_block))\n",
        "    return count\n",
        "\n",
        "# --- Question 1: Module (a) ---\n",
        "print(\"--- Question 1: Module (a) Analysis ---\")\n",
        "\n",
        "# The path length for module (a) is fixed. To get from (0,0) to (6,4)\n",
        "# with only unit horizontal/vertical moves, the robot must make\n",
        "# exactly 6 steps right and 4 steps up.\n",
        "# Total steps = 6 + 4 = 10. So, we model a path of length 11 (0 to 10).\n",
        "PATH_LEN_A = 10\n",
        "\n",
        "# 1. Create SMT encoding for module (a) movements .\n",
        "x = [Int(f\"x_{i}\") for i in range(PATH_LEN_A + 1)]\n",
        "y = [Int(f\"y_{i}\") for i in range(PATH_LEN_A + 1)]\n",
        "\n",
        "# Create a solver for Question 1\n",
        "s1 = Solver()\n",
        "\n",
        "# Add constraints for initial and final coordinates .\n",
        "s1.add(x[0] == START_POS[0], y[0] == START_POS[1])\n",
        "s1.add(x[PATH_LEN_A] == END_POS[0], y[PATH_LEN_A] == END_POS[1])\n",
        "\n",
        "# Add constraints for robot movement rules for each step .\n",
        "for i in range(PATH_LEN_A):\n",
        "    # Robot can only move one step vertically or horizontally\n",
        "    step_constraint = Or(\n",
        "        And(x[i+1] == x[i] + 1, y[i+1] == y[i]),  # Move right\n",
        "        And(x[i+1] == x[i], y[i+1] == y[i] + 1)   # Move up\n",
        "    )\n",
        "    s1.add(step_constraint)\n",
        "\n",
        "# Add constraints to avoid all red (forbidden) coordinates .\n",
        "for i in range(1, PATH_LEN_A): # Check intermediate points\n",
        "    for red_x, red_y in RED_DOTS:\n",
        "        s1.add(Not(And(x[i] == red_x, y[i] == red_y)))\n",
        "\n",
        "# 1(i). Find the number of all possible robot's movements (path) from A to B .\n",
        "num_paths_a = solve_and_count_all_paths(s1)\n",
        "print(f\"1(i): Found {num_paths_a} possible paths for module (a).\\n\")\n",
        "\n",
        "# 1(ii). Show that there is no robot movement that passes coordinate C .\n",
        "# We test this by creating a new solver with an additional constraint that\n",
        "# the path *must* pass through C. If it's UNSAT, the proposition is true.\n",
        "s1_check_c = Solver()\n",
        "# Add all the same constraints as before\n",
        "s1_check_c.add(s1.assertions())\n",
        "\n",
        "# Add the new constraint: the path must pass through C(2,1) at some step.\n",
        "path_must_pass_c = Or([And(x[i] == POS_C[0], y[i] == POS_C[1]) for i in range(1, PATH_LEN_A)])\n",
        "s1_check_c.add(path_must_pass_c)\n",
        "\n",
        "print(\"1(ii): Checking if any path can pass through coordinate C(2,1)...\")\n",
        "if s1_check_c.check() == unsat:\n",
        "    print(\"Result: UNSAT. This proves there is no movement that passes through coordinate C.\")\n",
        "    print(\"Reason: Coordinate C(2,1) is a forbidden 'red dot'.\\n\")\n",
        "else:\n",
        "    print(\"Result: SAT. This would mean a path can pass through C, which contradicts the problem statement.\\n\")\n",
        "\n",
        "\n"
      ],
      "metadata": {
        "colab": {
          "base_uri": "https://localhost:8080/"
        },
        "id": "JfLAdiKhGdR_",
        "outputId": "d17cbe6b-444e-4370-fc20-f1a322ef8aa5"
      },
      "execution_count": 3,
      "outputs": [
        {
          "output_type": "stream",
          "name": "stdout",
          "text": [
            "--- Question 1: Module (a) Analysis ---\n",
            "1(i): Found 10 possible paths for module (a).\n",
            "\n",
            "1(ii): Checking if any path can pass through coordinate C(2,1)...\n",
            "Result: UNSAT. This proves there is no movement that passes through coordinate C.\n",
            "Reason: Coordinate C(2,1) is a forbidden 'red dot'.\n",
            "\n"
          ]
        }
      ]
    },
    {
      "cell_type": "code",
      "source": [
        "# --- Question 2: Module (b) ---\n",
        "print(\"--- Question 2: Module (b) Analysis ---\")\n",
        "\n",
        "def create_module_b_solver(path_len):\n",
        "    \"\"\"Helper function to create a Z3 solver for a given path length for module (b).\"\"\"\n",
        "    s = Solver()\n",
        "\n",
        "    # 2. Create a SMT encoding to define the movements for module (b) .\n",
        "    x_b = [Int(f\"xb_{i}\") for i in range(path_len + 1)]\n",
        "    y_b = [Int(f\"yb_{i}\") for i in range(path_len + 1)]\n",
        "\n",
        "    # Initial and final state constraints\n",
        "    s.add(x_b[0] == START_POS[0], y_b[0] == START_POS[1])\n",
        "    s.add(x_b[path_len] == END_POS[0], y_b[path_len] == END_POS[1])\n",
        "\n",
        "    # Movement constraints for module (b) .\n",
        "    for i in range(path_len):\n",
        "        s.add(Or(\n",
        "            And(x_b[i+1] == x_b[i] + 1, y_b[i+1] == y_b[i]),      # Horizontal\n",
        "            And(x_b[i+1] == x_b[i], y_b[i+1] == y_b[i] + 1),      # Vertical\n",
        "            And(x_b[i+1] == x_b[i] + 1, y_b[i+1] == y_b[i] + 1)   # Up-diagonal\n",
        "        ))\n",
        "\n",
        "    # Forbidden zone constraints\n",
        "    for i in range(1, path_len):\n",
        "        for red_x, red_y in RED_DOTS:\n",
        "            s.add(Not(And(x_b[i] == red_x, y_b[i] == red_y)))\n",
        "\n",
        "    return s, x_b, y_b\n",
        "\n",
        "# For module (b), path length is variable. Min length is 6, max is 10.\n",
        "MIN_PATH_LEN_B = 6\n",
        "MAX_PATH_LEN_B = 10\n",
        "\n",
        "# 2(i). Find the number of all possible robot's movements (path) from A to B .\n",
        "total_paths_b = 0\n",
        "path_counts_by_length = {}\n",
        "print(\"2(i): Finding all possible paths for module (b) by checking path lengths 6 to 10...\")\n",
        "for k in range(MIN_PATH_LEN_B, MAX_PATH_LEN_B + 1):\n",
        "    s_b, _, _ = create_module_b_solver(k)\n",
        "    num_paths = solve_and_count_all_paths(s_b)\n",
        "    if num_paths > 0:\n",
        "        path_counts_by_length[k] = num_paths\n",
        "        total_paths_b += num_paths\n",
        "    print(f\"  - Paths of length {k}: {num_paths}\")\n",
        "print(f\"Result: Found a total of {total_paths_b} possible paths for module (b).\\n\")\n",
        "\n",
        "\n",
        "# 2(ii). Find the number of all possible robot's minimal movements (path) from A to B .\n",
        "print(\"2(ii): Finding the number of minimal movements...\")\n",
        "minimal_length = -1\n",
        "minimal_path_count = 0\n",
        "for length, count in sorted(path_counts_by_length.items()):\n",
        "    if count > 0:\n",
        "        minimal_length = length\n",
        "        minimal_path_count = count\n",
        "        break\n",
        "\n",
        "if minimal_length != -1:\n",
        "    print(f\"Result: The minimal path length is {minimal_length}. There are {minimal_path_count} such paths.\\n\")\n",
        "else:\n",
        "    print(\"Result: No paths were found for module (b).\\n\")\n",
        "\n",
        "# 2(iii). Show that all minimal movements must pass coordinates C, D and E .\n",
        "print(\"2(iii): Checking if all minimal paths must pass through C, D, and E.\")\n",
        "print(\"         NOTE: This is impossible as written, since C(2,1) and D(3,2) are red dots.\")\n",
        "\n",
        "if minimal_length != -1:\n",
        "    # We will disprove the statement by checking each point.\n",
        "    # To prove a path MUST pass a point, we show that AVOIDING the point is UNSAT.\n",
        "\n",
        "    points_to_check = {'C': POS_C, 'D': POS_D, 'E': POS_E}\n",
        "    for name, pos in points_to_check.items():\n",
        "        s_check, x_vars, y_vars = create_module_b_solver(minimal_length)\n",
        "\n",
        "        # Add constraint to AVOID the point\n",
        "        path_avoids_point = And([Not(And(x_vars[i] == pos[0], y_vars[i] == pos[1])) for i in range(1, minimal_length)])\n",
        "        s_check.add(path_avoids_point)\n",
        "\n",
        "        print(f\"  - Checking point {name}{pos}: If we force paths to AVOID this point...\")\n",
        "        if s_check.check() == unsat:\n",
        "            # This means no path exists that avoids the point, so all paths must pass it.\n",
        "            print(f\"    Result: UNSAT. All minimal paths MUST pass through {name}{pos}.\")\n",
        "        else:\n",
        "            # This means at least one path exists that avoids the point.\n",
        "            num_avoiding = solve_and_count_all_paths(s_check)\n",
        "            print(f\"    Result: SAT. Found {num_avoiding} minimal path(s) that AVOID {name}{pos}.\")\n",
        "            print(f\"    Conclusion: The statement that all paths must pass through {name} is FALSE.\")"
      ],
      "metadata": {
        "colab": {
          "base_uri": "https://localhost:8080/"
        },
        "id": "uLeCb9zuHjLh",
        "outputId": "bdf2559d-5e7b-488b-cced-cdd6d859c7c3"
      },
      "execution_count": 4,
      "outputs": [
        {
          "output_type": "stream",
          "name": "stdout",
          "text": [
            "--- Question 2: Module (b) Analysis ---\n",
            "2(i): Finding all possible paths for module (b) by checking path lengths 6 to 10...\n",
            "  - Paths of length 6: 0\n",
            "  - Paths of length 7: 0\n",
            "  - Paths of length 8: 6\n",
            "  - Paths of length 9: 16\n",
            "  - Paths of length 10: 10\n",
            "Result: Found a total of 32 possible paths for module (b).\n",
            "\n",
            "2(ii): Finding the number of minimal movements...\n",
            "Result: The minimal path length is 8. There are 6 such paths.\n",
            "\n",
            "2(iii): Checking if all minimal paths must pass through C, D, and E.\n",
            "         NOTE: This is impossible as written, since C(2,1) and D(3,2) are red dots.\n",
            "  - Checking point C(2, 1): If we force paths to AVOID this point...\n",
            "    Result: SAT. Found 6 minimal path(s) that AVOID C(2, 1).\n",
            "    Conclusion: The statement that all paths must pass through C is FALSE.\n",
            "  - Checking point D(3, 2): If we force paths to AVOID this point...\n",
            "    Result: SAT. Found 6 minimal path(s) that AVOID D(3, 2).\n",
            "    Conclusion: The statement that all paths must pass through D is FALSE.\n",
            "  - Checking point E(4, 3): If we force paths to AVOID this point...\n",
            "    Result: SAT. Found 6 minimal path(s) that AVOID E(4, 3).\n",
            "    Conclusion: The statement that all paths must pass through E is FALSE.\n"
          ]
        }
      ]
    }
  ]
}