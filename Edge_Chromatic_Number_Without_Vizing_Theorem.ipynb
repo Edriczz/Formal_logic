{
  "cells": [
    {
      "cell_type": "markdown",
      "metadata": {
        "id": "view-in-github",
        "colab_type": "text"
      },
      "source": [
        "<a href=\"https://colab.research.google.com/github/Edriczz/Formal_logic/blob/main/Edge_Chromatic_Number_Without_Vizing_Theorem.ipynb\" target=\"_parent\"><img src=\"https://colab.research.google.com/assets/colab-badge.svg\" alt=\"Open In Colab\"/></a>"
      ]
    },
    {
      "cell_type": "markdown",
      "source": [
        "Edrico Septian Elyazar \\\n",
        "5002221101 \\\n",
        "Formal Logic"
      ],
      "metadata": {
        "id": "nPenNi9ufIu1"
      }
    },
    {
      "cell_type": "markdown",
      "source": [
        "##Determining Edge Chromatic Number"
      ],
      "metadata": {
        "id": "P_bwNMzXfWMq"
      }
    },
    {
      "cell_type": "markdown",
      "source": [
        "![image.png](data:image/png;base64,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)"
      ],
      "metadata": {
        "id": "V5VvJWQoj4-L"
      }
    },
    {
      "cell_type": "markdown",
      "source": [
        "let this graph name is parallelogram_diag"
      ],
      "metadata": {
        "id": "IczwJOVikRzJ"
      }
    },
    {
      "cell_type": "code",
      "source": [
        "# prompt: instal z3 solver library\n",
        "\n",
        "!pip install z3-solver"
      ],
      "metadata": {
        "colab": {
          "base_uri": "https://localhost:8080/"
        },
        "id": "GC1x4ClzaSdO",
        "outputId": "0dd3468b-a8f3-44a4-cf62-4cda414096b7"
      },
      "execution_count": 1,
      "outputs": [
        {
          "output_type": "stream",
          "name": "stdout",
          "text": [
            "Collecting z3-solver\n",
            "  Downloading z3_solver-4.15.0.0-py3-none-manylinux_2_17_x86_64.manylinux2014_x86_64.whl.metadata (602 bytes)\n",
            "Downloading z3_solver-4.15.0.0-py3-none-manylinux_2_17_x86_64.manylinux2014_x86_64.whl (29.5 MB)\n",
            "\u001b[2K   \u001b[90m━━━━━━━━━━━━━━━━━━━━━━━━━━━━━━━━━━━━━━━━\u001b[0m \u001b[32m29.5/29.5 MB\u001b[0m \u001b[31m59.7 MB/s\u001b[0m eta \u001b[36m0:00:00\u001b[0m\n",
            "\u001b[?25hInstalling collected packages: z3-solver\n",
            "Successfully installed z3-solver-4.15.0.0\n"
          ]
        }
      ]
    },
    {
      "cell_type": "code",
      "source": [
        "from z3 import Solver, Int, And, Distinct, sat\n",
        "\n",
        "def convert_adj_matrix_to_graph_data(adj_matrix):\n",
        "    \"\"\"\n",
        "    Converts an adjacency matrix to the number of vertices and a list of edges,\n",
        "    treating the graph as a simple undirected graph (no multigraphs, no loops).\n",
        "    Assumption: adj_matrix is valid and represents a simple undirected graph.\n",
        "\n",
        "    Args:\n",
        "        adj_matrix (list of list of int): Adjacency matrix.\n",
        "                                          adj_matrix[i][j] > 0 means an edge exists between i and j.\n",
        "                                          Values > 1 are treated as 1 (simple graph).\n",
        "                                          Diagonal (loops) are ignored.\n",
        "    Returns:\n",
        "        tuple (int, list): Number of vertices, list of edge tuples for the simple graph.\n",
        "    \"\"\"\n",
        "    num_vertices = len(adj_matrix)\n",
        "    if num_vertices == 0:\n",
        "        return 0, []\n",
        "\n",
        "    edges = []\n",
        "    # Iterate through the strictly upper triangle (j > i) to process each edge once,\n",
        "    # and to ignore the diagonal (loops).\n",
        "    for i in range(num_vertices):\n",
        "        for j in range(i + 1, num_vertices): # j starts from i + 1\n",
        "            if adj_matrix[i][j] == 1:\n",
        "                edges.append((i, j))\n",
        "    return num_vertices, edges\n",
        "\n",
        "def get_max_degree(adj_matrix): # This function remains if needed for other analyses, but not for starting k\n",
        "     #this function is used when we want to use vizing theorem, but in this notebook we don't use it\n",
        "    \"\"\"\n",
        "    Calculates the maximum degree (Delta) of a simple undirected graph.\n",
        "    Loops are ignored as they don't exist in a simple graph.\n",
        "    Assumption: adj_matrix is valid and represents a simple undirected graph.\n",
        "\n",
        "    Args:\n",
        "        adj_matrix (list of list of int): Adjacency matrix. Values > 1 are treated as 1.\n",
        "    Returns:\n",
        "        int: Maximum degree (Delta) of the simple graph.\n",
        "    \"\"\"\n",
        "    num_vertices = len(adj_matrix)\n",
        "    if num_vertices == 0:\n",
        "        return 0\n",
        "\n",
        "    max_deg = 0\n",
        "    for i in range(num_vertices):\n",
        "        current_vertex_degree = 0\n",
        "        for j in range(num_vertices):\n",
        "            if i == j: # Ignore diagonal (loops not in simple graph)\n",
        "                continue\n",
        "            if adj_matrix[i][j] > 0: # Edge to another vertex\n",
        "                current_vertex_degree += 1\n",
        "        if current_vertex_degree > max_deg:\n",
        "            max_deg = current_vertex_degree\n",
        "\n",
        "    return max_deg\n",
        "\n",
        "def solve_edge_coloring_simple_graph(adj_matrix, k_colors):\n",
        "    \"\"\"\n",
        "    Attempts to find a k-edge-coloring for the simple graph derived from adj_matrix using Z3.\n",
        "    Assumption: adj_matrix is valid and represents a simple undirected graph.\n",
        "\n",
        "    Args:\n",
        "        adj_matrix (list of list of int): Adjacency matrix.\n",
        "        k_colors (int): Number of available colors.\n",
        "    Returns:\n",
        "        list or None: List of colors corresponding to the edge order if k-coloring exists,\n",
        "                      otherwise None.\n",
        "    \"\"\"\n",
        "    num_vertices, edges = convert_adj_matrix_to_graph_data(adj_matrix)\n",
        "\n",
        "    if not edges:\n",
        "        return []\n",
        "\n",
        "    s = Solver()\n",
        "    edge_vars = [Int(f\"edge_{i}_color\") for i in range(len(edges))]\n",
        "\n",
        "    # Constraint 1: Each edge's color must be between 1 and k_colors.\n",
        "    for i in range(len(edges)):\n",
        "        s.add(And(edge_vars[i] >= 1, edge_vars[i] <= k_colors))\n",
        "\n",
        "    # Constraint 2: Edges sharing a common vertex must have different colors.\n",
        "    for v_idx in range(num_vertices):\n",
        "        incident_edge_color_vars = []\n",
        "        for edge_idx, (u, v_node) in enumerate(edges):\n",
        "            if u == v_idx or v_node == v_idx:\n",
        "                incident_edge_color_vars.append(edge_vars[edge_idx])\n",
        "\n",
        "        if len(incident_edge_color_vars) > 1:\n",
        "            s.add(Distinct(incident_edge_color_vars))\n",
        "\n",
        "    if s.check() == sat:\n",
        "        model = s.model()\n",
        "        coloring_list = [model[edge_vars[i]].as_long() for i in range(len(edges))]\n",
        "        return coloring_list\n",
        "    else:\n",
        "        return None\n",
        "\n",
        "def find_edge_chromatic_number_simple_graph(adj_matrix):\n",
        "    \"\"\"\n",
        "    Finds the edge chromatic number of a simple undirected graph.\n",
        "    Starts searching k from 1.\n",
        "    Assumption: adj_matrix is valid and represents a simple undirected graph.\n",
        "\n",
        "    Args:\n",
        "        adj_matrix (list of list of int): Adjacency matrix.\n",
        "    Returns:\n",
        "        tuple (int, list): (edge_chromatic_number, list_of_colored_edges).\n",
        "                           Returns (0, []) for an empty graph.\n",
        "                           Returns (-1, []) if no coloring is found.\n",
        "    \"\"\"\n",
        "    num_vertices, edge_list_for_output = convert_adj_matrix_to_graph_data(adj_matrix)\n",
        "\n",
        "    if not edge_list_for_output:\n",
        "        return 0, []\n",
        "\n",
        "    # Upper bound for k is the number of edges.\n",
        "    # For a simple graph, a tighter upper bound is Delta + 1, or number of vertices - 1.\n",
        "    # However, for simple iteration, number of edges is a safe upper bound.\n",
        "    max_possible_k = len(edge_list_for_output)\n",
        "    if num_vertices > 1 : # For a connected graph with N vertices, max k can be N-1 (e.g., K_N) or N (e.g., odd C_N)\n",
        "         max_possible_k = min(max_possible_k, num_vertices) # K_N has chi'(K_N) = N-1 or N\n",
        "\n",
        "    # Start k from 1\n",
        "    for k in range(1, max_possible_k + 1):\n",
        "        print(f\"Attempting to edge-color the simple graph with {k} colors...\")\n",
        "        coloring_result_list = solve_edge_coloring_simple_graph(adj_matrix, k)\n",
        "\n",
        "        if coloring_result_list is not None:\n",
        "            print(f\"Successfully found an edge coloring with {k} colors.\")\n",
        "            final_coloring_representation = []\n",
        "            # Assuming lengths will always match if logic is correct\n",
        "            for i in range(len(edge_list_for_output)):\n",
        "                final_coloring_representation.append( (edge_list_for_output[i], coloring_result_list[i]) )\n",
        "            return k, final_coloring_representation\n",
        "        else:\n",
        "            print(f\"Failed to find an edge coloring with {k} colors.\")\n",
        "\n",
        "    print(f\"Could not determine the edge chromatic number after trying up to k={max_possible_k + 1}.\")\n",
        "    return -1, []\n",
        "\n",
        "\n",
        ""
      ],
      "outputs": [],
      "execution_count": 8,
      "metadata": {
        "id": "3r7AoPXDZnnd"
      }
    },
    {
      "cell_type": "code",
      "source": [
        "\n",
        "if __name__ == '__main__':\n",
        "# --- Test Cases (Simple Undirected Graph) ---\n",
        "    print(\"\\n--- Example 1: Parallelogram with a diagonal ---\")\n",
        "    # Vertices: 0 (bottom-left), 1 (top-left), 2 (top-right), 3 (bottom-right)\n",
        "    # Edges: (0,1), (1,2), (2,3), (3,0) and diagonal (0,2)\n",
        "    # Max degree (Delta) = 3 (at vertices 0 and 2). Expected chi' = 3.\n",
        "    adj_parallelogram_diag = [\n",
        "        [0, 1, 1, 1],  # Vertex 0 to 1, 2, 3\n",
        "        [1, 0, 1, 0],  # Vertex 1 to 0, 2\n",
        "        [1, 1, 0, 1],  # Vertex 2 to 0, 1, 3\n",
        "        [1, 0, 1, 0]   # Vertex 3 to 0, 2\n",
        "    ]\n",
        "    chi_prime_pd, coloring_pd = find_edge_chromatic_number_simple_graph(adj_parallelogram_diag)\n",
        "    print(f\"Edge chromatic number for parallelogram with diagonal: {chi_prime_pd}\")\n",
        "    if chi_prime_pd != -1:\n",
        "        print(\"Coloring:\")\n",
        "        for edge, color in coloring_pd:\n",
        "            print(f\"  Edge {edge}: Color {color}\")\n"
      ],
      "metadata": {
        "colab": {
          "base_uri": "https://localhost:8080/"
        },
        "id": "RmiG__PHlokq",
        "outputId": "dc4c6ce8-524c-491b-888d-addc27ecb96c"
      },
      "execution_count": 9,
      "outputs": [
        {
          "output_type": "stream",
          "name": "stdout",
          "text": [
            "\n",
            "--- Example 8: Parallelogram with a diagonal ---\n",
            "Attempting to edge-color the simple graph with 1 colors...\n",
            "Failed to find an edge coloring with 1 colors.\n",
            "Attempting to edge-color the simple graph with 2 colors...\n",
            "Failed to find an edge coloring with 2 colors.\n",
            "Attempting to edge-color the simple graph with 3 colors...\n",
            "Successfully found an edge coloring with 3 colors.\n",
            "Edge chromatic number for parallelogram with diagonal: 3\n",
            "Coloring:\n",
            "  Edge (0, 1): Color 1\n",
            "  Edge (0, 2): Color 3\n",
            "  Edge (0, 3): Color 2\n",
            "  Edge (1, 2): Color 2\n",
            "  Edge (2, 3): Color 1\n"
          ]
        }
      ]
    }
  ],
  "metadata": {
    "colab": {
      "provenance": [],
      "include_colab_link": true
    },
    "kernelspec": {
      "display_name": "Python 3",
      "name": "python3"
    }
  },
  "nbformat": 4,
  "nbformat_minor": 0
}