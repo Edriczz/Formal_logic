{
  "nbformat": 4,
  "nbformat_minor": 0,
  "metadata": {
    "colab": {
      "provenance": [],
      "authorship_tag": "ABX9TyNU8pnHQkpPiTMGMW4f5WZM",
      "include_colab_link": true
    },
    "kernelspec": {
      "name": "python3",
      "display_name": "Python 3"
    },
    "language_info": {
      "name": "python"
    }
  },
  "cells": [
    {
      "cell_type": "markdown",
      "metadata": {
        "id": "view-in-github",
        "colab_type": "text"
      },
      "source": [
        "<a href=\"https://colab.research.google.com/github/Edriczz/Formal_logic/blob/main/Formal_Logic_Homework.ipynb\" target=\"_parent\"><img src=\"https://colab.research.google.com/assets/colab-badge.svg\" alt=\"Open In Colab\"/></a>"
      ]
    },
    {
      "cell_type": "markdown",
      "source": [
        "Edrico Septian Elyazar \\\\\n",
        "5002221101 \\\\\n",
        "Formal Logic Homework"
      ],
      "metadata": {
        "id": "-mP8buUXB1LW"
      }
    },
    {
      "cell_type": "markdown",
      "source": [
        "# Problem 4\n",
        "\n",
        "Construct the Boolean formula to model the following problem:\n",
        "\n",
        "\"Given a $3 \\times 3$ chessboard, place three Rook pieces such that there are no two pieces that can attack each other. A Rook can move vertically or horizontally.\"\n",
        "\n",
        "Determine whether the formula is satisfiable or not. Explain your answer.\n",
        "\n",
        "$$\n",
        "\\begin{array}{|c|c|c|}\n",
        "\\hline\n",
        "a_{11} & a_{12} & a_{13} \\\\\n",
        "\\hline\n",
        "a_{21} & a_{22} & a_{23} \\\\\n",
        "\\hline\n",
        "a_{31} & a_{32} & a_{33} \\\\\n",
        "\\hline\n",
        "\\end{array}\n",
        "$$\n",
        "\n",
        "## Instructions\n",
        "\n",
        "- Define nine Boolean variables $a_{ij}$ where $i, j \\in \\{1, 2, 3\\}$\n",
        "- You may define the formula as:\n",
        "\n",
        "$$\n",
        "F = F_{11} \\land F_{12} \\land \\dots\\land F_{33}\\land R_1\\land R_2\\land R_3 \\land C_1\\land C_2\\land C_3\n",
        "$$\n",
        "\n",
        "- Use implication formulas: if a Rook is placed in a cell, others in the same row/column can't.\n"
      ],
      "metadata": {
        "id": "8WFd8R-n8yku"
      }
    },
    {
      "cell_type": "markdown",
      "source": [
        "By using Z3 solver, determine whether F satisfiable?"
      ],
      "metadata": {
        "id": "kVxzO5pG-S7E"
      }
    },
    {
      "cell_type": "code",
      "execution_count": null,
      "metadata": {
        "colab": {
          "base_uri": "https://localhost:8080/"
        },
        "id": "MzIPTV9F7jQo",
        "outputId": "212bb285-764c-4611-ff7a-2f1921b4a894"
      },
      "outputs": [
        {
          "output_type": "stream",
          "name": "stdout",
          "text": [
            "Collecting z3-solver\n",
            "  Downloading z3_solver-4.15.0.0-py3-none-manylinux_2_17_x86_64.manylinux2014_x86_64.whl.metadata (602 bytes)\n",
            "Downloading z3_solver-4.15.0.0-py3-none-manylinux_2_17_x86_64.manylinux2014_x86_64.whl (29.5 MB)\n",
            "\u001b[2K   \u001b[90m━━━━━━━━━━━━━━━━━━━━━━━━━━━━━━━━━━━━━━━━\u001b[0m \u001b[32m29.5/29.5 MB\u001b[0m \u001b[31m66.9 MB/s\u001b[0m eta \u001b[36m0:00:00\u001b[0m\n",
            "\u001b[?25hInstalling collected packages: z3-solver\n",
            "Successfully installed z3-solver-4.15.0.0\n"
          ]
        }
      ],
      "source": [
        "#install z3 solver\n",
        "!pip install z3-solver"
      ]
    },
    {
      "cell_type": "code",
      "source": [
        "#defining variable names\n",
        "from z3 import *\n",
        "var = []\n",
        "for i in range(1, 4):\n",
        "    for j in range(1, 4):\n",
        "        var_name = f'a{i}{j}'\n",
        "        var.append(Bool(var_name))\n",
        "\n",
        "print(var)"
      ],
      "metadata": {
        "colab": {
          "base_uri": "https://localhost:8080/"
        },
        "id": "md8gWx2YRFXe",
        "outputId": "b705fbcd-03c8-4e0f-8502-d217c5235aeb"
      },
      "execution_count": null,
      "outputs": [
        {
          "output_type": "stream",
          "name": "stdout",
          "text": [
            "[a11, a12, a13, a21, a22, a23, a31, a32, a33]\n"
          ]
        }
      ]
    },
    {
      "cell_type": "code",
      "source": [
        "#var[0] = a11\n",
        "#var[1] = a12\n",
        "#var[2] = a13\n",
        "#var[3] = a21\n",
        "#var[4] = a22\n",
        "#var[5] = a23\n",
        "#var[6] = a31\n",
        "#var[7] = a32\n",
        "#var[8] = a33"
      ],
      "metadata": {
        "id": "RA4L7aHHVKM4"
      },
      "execution_count": null,
      "outputs": []
    },
    {
      "cell_type": "code",
      "source": [
        "#defining the formula for f_ij\n",
        "f11=Implies(var[0], And(Not(var[1]), Not(var[2]), Not(var[3]), Not(var[6])))\n",
        "f12=Implies(var[1], And(Not(var[0]), Not(var[2]), Not(var[4]), Not(var[7])))\n",
        "f13=Implies(var[2], And(Not(var[0]), Not(var[1]), Not(var[5]), Not(var[8])))\n",
        "f21=Implies(var[3], And(Not(var[0]), Not(var[6]), Not(var[4]), Not(var[5])))\n",
        "f22=Implies(var[4], And(Not(var[1]), Not(var[7]), Not(var[3]), Not(var[5])))\n",
        "f23=Implies(var[5], And(Not(var[2]), Not(var[3]), Not(var[4]), Not(var[8])))\n",
        "f31=Implies(var[6], And(Not(var[0]), Not(var[3]), Not(var[7]), Not(var[8])))\n",
        "f32=Implies(var[7], And(Not(var[1]), Not(var[4]), Not(var[6]), Not(var[8])))\n",
        "f33=Implies(var[8], And(Not(var[2]), Not(var[5]), Not(var[6]), Not(var[7])))\n",
        "F_ij=And(f11,f12,f13,f21,f22,f23,f31,f32,f33)\n",
        "#defining formula for r_ij\n",
        "r1=Or(var[0],var[1],var[2])\n",
        "r2=Or(var[3],var[4],var[5])\n",
        "r3=Or(var[6],var[7],var[8])\n",
        "R_ij=And(r1,r2,r3)\n",
        "#defining formula for c_ij\n",
        "c1=Or(var[0],var[3],var[6])\n",
        "c2=Or(var[1],var[4],var[7])\n",
        "c3=Or(var[2],var[5],var[8])\n",
        "C_ij=And(c1,c2,c3)\n",
        "#defining the whole formula of this kind of 3x3 chessboard\n",
        "F=And(F_ij,R_ij,C_ij)\n",
        "\n",
        "#print(F)\n"
      ],
      "metadata": {
        "id": "ltJvPpLfTYFZ"
      },
      "execution_count": null,
      "outputs": []
    },
    {
      "cell_type": "code",
      "source": [
        "#solving whether F is satisfiable\n",
        "solver = Solver()\n",
        "solver.add(F)\n",
        "if solver.check() == sat:\n",
        "    print(\"F is satisfiable\")\n",
        "else:\n",
        "    print(\"F is not satisfiable\")"
      ],
      "metadata": {
        "colab": {
          "base_uri": "https://localhost:8080/"
        },
        "id": "oWS2LVvhZMQz",
        "outputId": "de6d7332-6f66-4e81-8e6b-d4a1d7d08c01"
      },
      "execution_count": null,
      "outputs": [
        {
          "output_type": "stream",
          "name": "stdout",
          "text": [
            "F is satisfiable\n"
          ]
        }
      ]
    },
    {
      "cell_type": "code",
      "source": [
        "#finding one model for F\n",
        "model=solver.model()\n",
        "print(model)"
      ],
      "metadata": {
        "colab": {
          "base_uri": "https://localhost:8080/"
        },
        "id": "SroczsiHZ95A",
        "outputId": "b54cdb4d-8ba9-47be-e897-6bed2723d63f"
      },
      "execution_count": null,
      "outputs": [
        {
          "output_type": "stream",
          "name": "stdout",
          "text": [
            "[a12 = False,\n",
            " a32 = False,\n",
            " a22 = True,\n",
            " a33 = True,\n",
            " a31 = False,\n",
            " a23 = False,\n",
            " a11 = True,\n",
            " a21 = False,\n",
            " a13 = False]\n"
          ]
        }
      ]
    },
    {
      "cell_type": "code",
      "source": [
        "#finding all possible model for F\n",
        "while solver.check() == sat:\n",
        "    model = solver.model()\n",
        "    print(model)\n",
        "    # Prevent the solver from finding the same model again\n",
        "    solver.add(Or([var[i] != model[var[i]] for i in range(len(var)) if model[var[i]] is not None]))"
      ],
      "metadata": {
        "colab": {
          "base_uri": "https://localhost:8080/"
        },
        "id": "qcsaURdqbSD8",
        "outputId": "a62520a3-274d-4632-9087-a611cedfcd01"
      },
      "execution_count": null,
      "outputs": [
        {
          "output_type": "stream",
          "name": "stdout",
          "text": [
            "[a12 = False,\n",
            " a32 = False,\n",
            " a22 = True,\n",
            " a33 = True,\n",
            " a31 = False,\n",
            " a23 = False,\n",
            " a11 = True,\n",
            " a21 = False,\n",
            " a13 = False]\n",
            "[a12 = False,\n",
            " a32 = False,\n",
            " a22 = True,\n",
            " a33 = False,\n",
            " a31 = True,\n",
            " a23 = False,\n",
            " a11 = False,\n",
            " a21 = False,\n",
            " a13 = True]\n",
            "[a12 = False,\n",
            " a32 = True,\n",
            " a22 = False,\n",
            " a33 = False,\n",
            " a31 = False,\n",
            " a23 = True,\n",
            " a11 = True,\n",
            " a21 = False,\n",
            " a13 = False]\n",
            "[a12 = False,\n",
            " a32 = True,\n",
            " a22 = False,\n",
            " a33 = False,\n",
            " a31 = False,\n",
            " a23 = False,\n",
            " a11 = False,\n",
            " a21 = True,\n",
            " a13 = True]\n",
            "[a12 = True,\n",
            " a32 = False,\n",
            " a22 = False,\n",
            " a33 = False,\n",
            " a31 = True,\n",
            " a23 = True,\n",
            " a11 = False,\n",
            " a21 = False,\n",
            " a13 = False]\n",
            "[a12 = True,\n",
            " a32 = False,\n",
            " a22 = False,\n",
            " a33 = True,\n",
            " a31 = False,\n",
            " a23 = False,\n",
            " a11 = False,\n",
            " a21 = True,\n",
            " a13 = False]\n"
          ]
        }
      ]
    }
  ]
}